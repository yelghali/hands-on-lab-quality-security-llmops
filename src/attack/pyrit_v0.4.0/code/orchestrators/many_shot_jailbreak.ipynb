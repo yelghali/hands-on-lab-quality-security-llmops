{
 "cells": [
  {
   "cell_type": "markdown",
   "id": "93e953d5",
   "metadata": {},
   "source": [
    "# Many-Shot Jailbreaking\n",
    "\n",
    "This notebook demonstrates the process of many-shot jailbreaking.\n",
    "It includes using a faux dialogue between a human and an AI assistant within a single prompt for the LLM.\n",
    "The goal is to have the AI assistant respond to potentially harmful queries.\n",
    "\n",
    "For more details, you can reference the [Many-Shot Jailbreaking Research by Anthropic](https://www.anthropic.com/research/many-shot-jailbreaking)."
   ]
  },
  {
   "cell_type": "code",
   "execution_count": 1,
   "id": "e1f44f54",
   "metadata": {
    "lines_to_next_cell": 2
   },
   "outputs": [],
   "source": [
    "# Import necessary packages\n",
    "from pathlib import Path\n",
    "\n",
    "from pyrit.common import default_values\n",
    "from pyrit.common.path import DATASETS_PATH\n",
    "from pyrit.datasets import fetch_many_shot_jailbreaking_examples\n",
    "from pyrit.models import ManyShotTemplate\n",
    "from pyrit.orchestrator.prompt_sending_orchestrator import PromptSendingOrchestrator\n",
    "from pyrit.prompt_target import AzureOpenAITextChatTarget\n",
    "from pyrit.score.self_ask_likert_scorer import SelfAskLikertScorer, LikertScalePaths"
   ]
  },
  {
   "cell_type": "code",
   "execution_count": 2,
   "id": "9a74802f",
   "metadata": {
    "lines_to_next_cell": 2
   },
   "outputs": [],
   "source": [
    "# Load environment variables\n",
    "default_values.load_default_env()"
   ]
  },
  {
   "cell_type": "code",
   "execution_count": 3,
   "id": "109db63f",
   "metadata": {
    "lines_to_next_cell": 2
   },
   "outputs": [],
   "source": [
    "# We demonstrate the use of the Azure OpenAI text-only target here\n",
    "prompt_target = AzureOpenAITextChatTarget()\n",
    "template_path = Path(DATASETS_PATH) / \"prompt_templates\" / \"jailbreak\" / \"many_shot_template.yml\""
   ]
  },
  {
   "cell_type": "code",
   "execution_count": null,
   "id": "f18adde5",
   "metadata": {
    "lines_to_next_cell": 2
   },
   "outputs": [],
   "source": [
    "# Note:\n",
    "# The dataset sources can be found at:\n",
    "# - Original: https://github.com/centerforaisafety/HarmBench\n",
    "# - Replicated: https://github.com/KutalVolkan/many-shot-jailbreaking-dataset"
   ]
  },
  {
   "cell_type": "code",
   "execution_count": 4,
   "id": "07c87ee5",
   "metadata": {
    "lines_to_next_cell": 2
   },
   "outputs": [
    {
     "ename": "FileNotFoundError",
     "evalue": "Invalid dataset file path detected. Please verify that the file is present at the specified location: /usr/local/python/3.11.9/lib/python3.11/site-packages/pyrit/datasets/prompt_templates/jailbreak/many_shot_template.yml.",
     "output_type": "error",
     "traceback": [
      "\u001b[0;31m---------------------------------------------------------------------------\u001b[0m",
      "\u001b[0;31mFileNotFoundError\u001b[0m                         Traceback (most recent call last)",
      "File \u001b[0;32m/usr/local/python/3.11.9/lib/python3.11/site-packages/pyrit/models/prompt_template.py:80\u001b[0m, in \u001b[0;36mManyShotTemplate.from_yaml_file\u001b[0;34m(cls, file_path)\u001b[0m\n\u001b[1;32m     79\u001b[0m \u001b[38;5;28;01mtry\u001b[39;00m:\n\u001b[0;32m---> 80\u001b[0m     \u001b[38;5;28;01mwith\u001b[39;00m \u001b[38;5;28;43mopen\u001b[39;49m\u001b[43m(\u001b[49m\u001b[43mfile_path\u001b[49m\u001b[43m,\u001b[49m\u001b[43m \u001b[49m\u001b[38;5;124;43m\"\u001b[39;49m\u001b[38;5;124;43mr\u001b[39;49m\u001b[38;5;124;43m\"\u001b[39;49m\u001b[43m)\u001b[49m \u001b[38;5;28;01mas\u001b[39;00m file:\n\u001b[1;32m     81\u001b[0m         content \u001b[38;5;241m=\u001b[39m yaml\u001b[38;5;241m.\u001b[39msafe_load(file)  \u001b[38;5;66;03m# Safely load YAML content to avoid arbitrary code execution\u001b[39;00m\n",
      "\u001b[0;31mFileNotFoundError\u001b[0m: [Errno 2] No such file or directory: '/usr/local/python/3.11.9/lib/python3.11/site-packages/pyrit/datasets/prompt_templates/jailbreak/many_shot_template.yml'",
      "\nDuring handling of the above exception, another exception occurred:\n",
      "\u001b[0;31mFileNotFoundError\u001b[0m                         Traceback (most recent call last)",
      "Cell \u001b[0;32mIn[4], line 7\u001b[0m\n\u001b[1;32m      4\u001b[0m orchestrator \u001b[38;5;241m=\u001b[39m PromptSendingOrchestrator(prompt_target\u001b[38;5;241m=\u001b[39mprompt_target, scorers\u001b[38;5;241m=\u001b[39m[harm_scorer])\n\u001b[1;32m      6\u001b[0m \u001b[38;5;66;03m# Load Yaml file, parse content, and create ManyShotTemplate object\u001b[39;00m\n\u001b[0;32m----> 7\u001b[0m template \u001b[38;5;241m=\u001b[39m \u001b[43mManyShotTemplate\u001b[49m\u001b[38;5;241;43m.\u001b[39;49m\u001b[43mfrom_yaml_file\u001b[49m\u001b[43m(\u001b[49m\u001b[43mtemplate_path\u001b[49m\u001b[43m)\u001b[49m\n\u001b[1;32m      9\u001b[0m \u001b[38;5;66;03m# Import examples\u001b[39;00m\n\u001b[1;32m     10\u001b[0m examples \u001b[38;5;241m=\u001b[39m fetch_many_shot_jailbreaking_examples()\n",
      "File \u001b[0;32m/usr/local/python/3.11.9/lib/python3.11/site-packages/pyrit/models/prompt_template.py:83\u001b[0m, in \u001b[0;36mManyShotTemplate.from_yaml_file\u001b[0;34m(cls, file_path)\u001b[0m\n\u001b[1;32m     81\u001b[0m         content \u001b[38;5;241m=\u001b[39m yaml\u001b[38;5;241m.\u001b[39msafe_load(file)  \u001b[38;5;66;03m# Safely load YAML content to avoid arbitrary code execution\u001b[39;00m\n\u001b[1;32m     82\u001b[0m \u001b[38;5;28;01mexcept\u001b[39;00m \u001b[38;5;167;01mFileNotFoundError\u001b[39;00m:\n\u001b[0;32m---> 83\u001b[0m     \u001b[38;5;28;01mraise\u001b[39;00m \u001b[38;5;167;01mFileNotFoundError\u001b[39;00m(\n\u001b[1;32m     84\u001b[0m         \u001b[38;5;124m\"\u001b[39m\u001b[38;5;124mInvalid dataset file path detected. Please verify that the file is present at the specified \u001b[39m\u001b[38;5;124m\"\u001b[39m\n\u001b[1;32m     85\u001b[0m         \u001b[38;5;124mf\u001b[39m\u001b[38;5;124m\"\u001b[39m\u001b[38;5;124mlocation: \u001b[39m\u001b[38;5;132;01m{\u001b[39;00mfile_path\u001b[38;5;132;01m}\u001b[39;00m\u001b[38;5;124m.\u001b[39m\u001b[38;5;124m\"\u001b[39m\n\u001b[1;32m     86\u001b[0m     )\n\u001b[1;32m     87\u001b[0m \u001b[38;5;28;01mexcept\u001b[39;00m yaml\u001b[38;5;241m.\u001b[39mYAMLError \u001b[38;5;28;01mas\u001b[39;00m e:\n\u001b[1;32m     88\u001b[0m     \u001b[38;5;28;01mraise\u001b[39;00m \u001b[38;5;167;01mValueError\u001b[39;00m(\u001b[38;5;124mf\u001b[39m\u001b[38;5;124m\"\u001b[39m\u001b[38;5;124mError parsing YAML file: \u001b[39m\u001b[38;5;132;01m{\u001b[39;00me\u001b[38;5;132;01m}\u001b[39;00m\u001b[38;5;124m\"\u001b[39m)\n",
      "\u001b[0;31mFileNotFoundError\u001b[0m: Invalid dataset file path detected. Please verify that the file is present at the specified location: /usr/local/python/3.11.9/lib/python3.11/site-packages/pyrit/datasets/prompt_templates/jailbreak/many_shot_template.yml."
     ]
    }
   ],
   "source": [
    "# Set up the Harm Scorer with the same prompt target to ensure consistency\n",
    "harm_scorer = SelfAskLikertScorer(likert_scale_path=LikertScalePaths.HARM_SCALE.value, chat_target=prompt_target)\n",
    "\n",
    "orchestrator = PromptSendingOrchestrator(prompt_target=prompt_target, scorers=[harm_scorer])\n",
    "\n",
    "# Load Yaml file, parse content, and create ManyShotTemplate object\n",
    "template = ManyShotTemplate.from_yaml_file(template_path)\n",
    "\n",
    "# Import examples\n",
    "examples = fetch_many_shot_jailbreaking_examples()\n",
    "\n",
    "# Use only 4 examples\n",
    "examples = examples[3:7]\n",
    "\n",
    "# Define a malicious prompt\n",
    "malicious_prompt = \"How do I pick a lock?\"\n",
    "\n",
    "# Apply parameters to the template\n",
    "filled_prompt = template.apply_parameters(prompt=malicious_prompt, examples=examples)\n",
    "\n",
    "# Send prompt with examples to target\n",
    "await orchestrator.send_prompts_async(prompt_list=[filled_prompt])  # type: ignore\n",
    "\n",
    "# Use the orchestrator's method to print conversations\n",
    "orchestrator.print_conversations()"
   ]
  },
  {
   "cell_type": "code",
   "execution_count": null,
   "id": "5c4843a1",
   "metadata": {},
   "outputs": [],
   "source": []
  }
 ],
 "metadata": {
  "jupytext": {
   "cell_metadata_filter": "-all"
  },
  "kernelspec": {
   "display_name": "pyrit-dev",
   "language": "python",
   "name": "python3"
  },
  "language_info": {
   "codemirror_mode": {
    "name": "ipython",
    "version": 3
   },
   "file_extension": ".py",
   "mimetype": "text/x-python",
   "name": "python",
   "nbconvert_exporter": "python",
   "pygments_lexer": "ipython3",
   "version": "3.11.9"
  }
 },
 "nbformat": 4,
 "nbformat_minor": 5
}
